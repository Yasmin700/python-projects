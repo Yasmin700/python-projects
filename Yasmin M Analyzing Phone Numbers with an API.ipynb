{
 "cells": [
  {
   "cell_type": "markdown",
   "metadata": {},
   "source": [
    "# Performing Tasks with APIs\n",
    "\n"
   ]
  },
  {
   "cell_type": "markdown",
   "metadata": {},
   "source": [
    "## Part 1: Loading Data"
   ]
  },
  {
   "cell_type": "markdown",
   "metadata": {},
   "source": [
    "### Loading Data"
   ]
  },
  {
   "cell_type": "code",
   "execution_count": 27,
   "metadata": {
    "ExecuteTime": {
     "end_time": "2021-04-27T03:49:18.106590Z",
     "start_time": "2021-04-27T03:49:17.488056Z"
    }
   },
   "outputs": [],
   "source": [
    "import pandas as pd\n",
    "import requests\n",
    "\n",
    "filename = 'ContactsList.csv'"
   ]
  },
  {
   "cell_type": "code",
   "execution_count": 28,
   "metadata": {
    "ExecuteTime": {
     "end_time": "2021-04-27T03:49:18.151516Z",
     "start_time": "2021-04-27T03:49:18.132475Z"
    }
   },
   "outputs": [],
   "source": [
    "contacts = pd.read_csv(filename)"
   ]
  },
  {
   "cell_type": "code",
   "execution_count": 29,
   "metadata": {
    "ExecuteTime": {
     "end_time": "2021-04-27T03:49:18.217208Z",
     "start_time": "2021-04-27T03:49:18.163075Z"
    }
   },
   "outputs": [
    {
     "data": {
      "text/html": [
       "<div>\n",
       "<style scoped>\n",
       "    .dataframe tbody tr th:only-of-type {\n",
       "        vertical-align: middle;\n",
       "    }\n",
       "\n",
       "    .dataframe tbody tr th {\n",
       "        vertical-align: top;\n",
       "    }\n",
       "\n",
       "    .dataframe thead th {\n",
       "        text-align: right;\n",
       "    }\n",
       "</style>\n",
       "<table border=\"1\" class=\"dataframe\">\n",
       "  <thead>\n",
       "    <tr style=\"text-align: right;\">\n",
       "      <th></th>\n",
       "      <th>first_name</th>\n",
       "      <th>last_name</th>\n",
       "      <th>address</th>\n",
       "      <th>city</th>\n",
       "      <th>state</th>\n",
       "      <th>zip</th>\n",
       "      <th>phone</th>\n",
       "      <th>Introduction</th>\n",
       "    </tr>\n",
       "  </thead>\n",
       "  <tbody>\n",
       "    <tr>\n",
       "      <th>0</th>\n",
       "      <td>Art</td>\n",
       "      <td>Venere</td>\n",
       "      <td>8 W Cerritos Ave #54</td>\n",
       "      <td>Bridgeport</td>\n",
       "      <td>NJ</td>\n",
       "      <td>8014</td>\n",
       "      <td>8562644130</td>\n",
       "      <td>Здраво, јас сум заинтересиран да ја испробам н...</td>\n",
       "    </tr>\n",
       "    <tr>\n",
       "      <th>1</th>\n",
       "      <td>Abel</td>\n",
       "      <td>Maclead</td>\n",
       "      <td>37275 St  Rt 17m M</td>\n",
       "      <td>Middle Island</td>\n",
       "      <td>NY</td>\n",
       "      <td>11953</td>\n",
       "      <td>6316773675</td>\n",
       "      <td>Hej, chciałbym się skontaktować w sprawie wspó...</td>\n",
       "    </tr>\n",
       "    <tr>\n",
       "      <th>2</th>\n",
       "      <td>Frieden</td>\n",
       "      <td>Richard</td>\n",
       "      <td>6360 Wilshire Blvd Ste 506</td>\n",
       "      <td>Los Angeles</td>\n",
       "      <td>CA</td>\n",
       "      <td>90048</td>\n",
       "      <td>3236553854</td>\n",
       "      <td>Živjo! Imam nekaj vprašanj o vašem podjetju v ...</td>\n",
       "    </tr>\n",
       "    <tr>\n",
       "      <th>3</th>\n",
       "      <td>Tina</td>\n",
       "      <td>Mendoza</td>\n",
       "      <td>10599 Michael Cliffs</td>\n",
       "      <td>Dannyfort</td>\n",
       "      <td>PA</td>\n",
       "      <td>96251</td>\n",
       "      <td>3148244193</td>\n",
       "      <td>Ola, estou interesado en probar o seu servizo....</td>\n",
       "    </tr>\n",
       "    <tr>\n",
       "      <th>4</th>\n",
       "      <td>Richard</td>\n",
       "      <td>Garcia</td>\n",
       "      <td>13942 Flores Greens</td>\n",
       "      <td>New David</td>\n",
       "      <td>KS</td>\n",
       "      <td>11905</td>\n",
       "      <td>3612617977</td>\n",
       "      <td>मलाई लाग्छ तपाईंको सेवा हाम्रो व्यवसाय को लागी...</td>\n",
       "    </tr>\n",
       "  </tbody>\n",
       "</table>\n",
       "</div>"
      ],
      "text/plain": [
       "  first_name last_name                     address           city state  \\\n",
       "0        Art    Venere        8 W Cerritos Ave #54     Bridgeport    NJ   \n",
       "1       Abel   Maclead          37275 St  Rt 17m M  Middle Island    NY   \n",
       "2    Frieden   Richard  6360 Wilshire Blvd Ste 506    Los Angeles    CA   \n",
       "3       Tina   Mendoza        10599 Michael Cliffs      Dannyfort    PA   \n",
       "4    Richard    Garcia         13942 Flores Greens      New David    KS   \n",
       "\n",
       "     zip       phone                                       Introduction  \n",
       "0   8014  8562644130  Здраво, јас сум заинтересиран да ја испробам н...  \n",
       "1  11953  6316773675  Hej, chciałbym się skontaktować w sprawie wspó...  \n",
       "2  90048  3236553854  Živjo! Imam nekaj vprašanj o vašem podjetju v ...  \n",
       "3  96251  3148244193  Ola, estou interesado en probar o seu servizo....  \n",
       "4  11905  3612617977  मलाई लाग्छ तपाईंको सेवा हाम्रो व्यवसाय को लागी...  "
      ]
     },
     "execution_count": 29,
     "metadata": {},
     "output_type": "execute_result"
    }
   ],
   "source": [
    "# Print first 5 rows of `contacts`\n",
    "contacts.head()"
   ]
  },
  {
   "cell_type": "markdown",
   "metadata": {},
   "source": [
    "## API Registration & Connection Test\n"
   ]
  },
  {
   "cell_type": "markdown",
   "metadata": {},
   "source": [
    "### Registering for & Connecting to the Veriphone API\n"
   ]
  },
  {
   "cell_type": "code",
   "execution_count": 30,
   "metadata": {
    "ExecuteTime": {
     "end_time": "2021-04-27T03:49:18.444202Z",
     "start_time": "2021-04-27T03:49:18.437849Z"
    }
   },
   "outputs": [],
   "source": [
    "veriphone_api_key = '44538053EE324C71BFA4321EBC90D73E'"
   ]
  },
  {
   "cell_type": "markdown",
   "metadata": {},
   "source": [
    "### Determining if a Phone Number is Valid\n"
   ]
  },
  {
   "cell_type": "code",
   "execution_count": 31,
   "metadata": {
    "ExecuteTime": {
     "end_time": "2021-04-27T03:49:18.459655Z",
     "start_time": "2021-04-27T03:49:18.449816Z"
    }
   },
   "outputs": [],
   "source": [
    "def is_valid_phone(number):\n",
    "    # Create `url` variable\n",
    "    url = 'https://api.veriphone.io/v2/verify'\n",
    "    # Create `params` dictionary\n",
    "    params = {\n",
    "        'key': veriphone_api_key,\n",
    "        'phone': number,\n",
    "        'default_country': 'US',\n",
    "    }\n",
    "   \n",
    "    response = requests.get(url, params=params)\n",
    "    \n",
    "    \n",
    "    if response.status_code != 200:\n",
    "        # Return `False` if `status_code` is not `200`\n",
    "        return False\n",
    "    else:\n",
    "        # Otherwise, convert `response` to JSON and return `phone_valid`\n",
    "        return response.json()['phone_valid']"
   ]
  },
  {
   "cell_type": "markdown",
   "metadata": {},
   "source": [
    "After implementing `is_valid_phone`, execute it with the following test values:\n",
    "- `2024561111` (Phone Number of the US White House)\n",
    "- `9999999999` (Clearly fake data)\n",
    "\n",
    "---\n",
    "\n",
    "code should print the following:\n",
    "\n",
    "```\n",
    "True\n",
    "\n",
    "False\n",
    "```"
   ]
  },
  {
   "cell_type": "code",
   "execution_count": 32,
   "metadata": {},
   "outputs": [
    {
     "data": {
      "text/plain": [
       "True"
      ]
     },
     "execution_count": 32,
     "metadata": {},
     "output_type": "execute_result"
    }
   ],
   "source": [
    "is_valid_phone('2024561111')"
   ]
  },
  {
   "cell_type": "code",
   "execution_count": 33,
   "metadata": {},
   "outputs": [
    {
     "data": {
      "text/plain": [
       "False"
      ]
     },
     "execution_count": 33,
     "metadata": {},
     "output_type": "execute_result"
    }
   ],
   "source": [
    "is_valid_phone('9999999999')"
   ]
  },
  {
   "cell_type": "markdown",
   "metadata": {},
   "source": [
    "## Filtering Out Fake Entries\n"
   ]
  },
  {
   "cell_type": "markdown",
   "metadata": {},
   "source": [
    "###  Adding a `real_phone_number` Column"
   ]
  },
  {
   "cell_type": "code",
   "execution_count": 1,
   "metadata": {
    "ExecuteTime": {
     "end_time": "2021-04-27T03:49:20.452840Z",
     "start_time": "2021-04-27T03:49:20.446032Z"
    }
   },
   "outputs": [
    {
     "ename": "NameError",
     "evalue": "name 'contacts' is not defined",
     "output_type": "error",
     "traceback": [
      "\u001b[1;31m---------------------------------------------------------------------------\u001b[0m",
      "\u001b[1;31mNameError\u001b[0m                                 Traceback (most recent call last)",
      "\u001b[1;32m~\\AppData\\Local\\Temp\\ipykernel_7436\\2760081160.py\u001b[0m in \u001b[0;36m<module>\u001b[1;34m\u001b[0m\n\u001b[0;32m      1\u001b[0m \u001b[1;31m# Add `real_phone_number?` and `ValidAddress` columns, defaulted to `False`\u001b[0m\u001b[1;33m\u001b[0m\u001b[1;33m\u001b[0m\u001b[0m\n\u001b[1;32m----> 2\u001b[1;33m \u001b[0mcontacts\u001b[0m\u001b[1;33m[\u001b[0m\u001b[1;34m'real_phone_number?'\u001b[0m\u001b[1;33m]\u001b[0m \u001b[1;33m=\u001b[0m \u001b[1;32mFalse\u001b[0m\u001b[1;33m\u001b[0m\u001b[1;33m\u001b[0m\u001b[0m\n\u001b[0m",
      "\u001b[1;31mNameError\u001b[0m: name 'contacts' is not defined"
     ]
    }
   ],
   "source": [
    "# Add `real_phone_number?` and `ValidAddress` columns, defaulted to `False`\n",
    "contacts['real_phone_number?'] = False"
   ]
  },
  {
   "cell_type": "markdown",
   "metadata": {},
   "source": [
    "### Identifying Real Numbers\n",
    "iterate through each row in `contacts` and set `real_phone_number?` equal to `True` for any numbers that are, in fact, real.\n",
    "\n",
    " code should print the following:\n",
    "\n",
    "```\n",
    "True     75\n",
    "False    50\n",
    "Name: ValidPhone, dtype: int64\n",
    "```"
   ]
  },
  {
   "cell_type": "code",
   "execution_count": 37,
   "metadata": {
    "ExecuteTime": {
     "end_time": "2021-04-27T03:49:20.832420Z",
     "start_time": "2021-04-27T03:49:20.456434Z"
    }
   },
   "outputs": [],
   "source": [
    "for (index, row) in contacts.iterrows():\n",
    "    phone_number = row['phone']\n",
    "    valid_phone = is_valid_phone(row['phone'])\n",
    "    contacts.loc[index, 'real_phone_number?'] = valid_phone"
   ]
  },
  {
   "cell_type": "code",
   "execution_count": 38,
   "metadata": {},
   "outputs": [
    {
     "data": {
      "text/plain": [
       "True     75\n",
       "False    50\n",
       "Name: real_phone_number?, dtype: int64"
      ]
     },
     "execution_count": 38,
     "metadata": {},
     "output_type": "execute_result"
    }
   ],
   "source": [
    "contacts['real_phone_number?'].value_counts()"
   ]
  },
  {
   "cell_type": "markdown",
   "metadata": {},
   "source": [
    "###  Finding the Real Ones"
   ]
  },
  {
   "cell_type": "code",
   "execution_count": 39,
   "metadata": {
    "ExecuteTime": {
     "end_time": "2021-04-27T03:49:20.886067Z",
     "start_time": "2021-04-27T03:49:20.873372Z"
    }
   },
   "outputs": [],
   "source": [
    "# Filter for only `verified_contacts`\n",
    "verified_contacts = contacts[contacts['real_phone_number?']]"
   ]
  },
  {
   "cell_type": "code",
   "execution_count": 41,
   "metadata": {
    "ExecuteTime": {
     "end_time": "2021-04-27T03:49:20.926496Z",
     "start_time": "2021-04-27T03:49:20.895992Z"
    }
   },
   "outputs": [
    {
     "data": {
      "text/html": [
       "<div>\n",
       "<style scoped>\n",
       "    .dataframe tbody tr th:only-of-type {\n",
       "        vertical-align: middle;\n",
       "    }\n",
       "\n",
       "    .dataframe tbody tr th {\n",
       "        vertical-align: top;\n",
       "    }\n",
       "\n",
       "    .dataframe thead th {\n",
       "        text-align: right;\n",
       "    }\n",
       "</style>\n",
       "<table border=\"1\" class=\"dataframe\">\n",
       "  <thead>\n",
       "    <tr style=\"text-align: right;\">\n",
       "      <th></th>\n",
       "      <th>first_name</th>\n",
       "      <th>last_name</th>\n",
       "      <th>address</th>\n",
       "      <th>city</th>\n",
       "      <th>state</th>\n",
       "      <th>zip</th>\n",
       "      <th>phone</th>\n",
       "      <th>Introduction</th>\n",
       "      <th>real_phone_number?</th>\n",
       "    </tr>\n",
       "  </thead>\n",
       "  <tbody>\n",
       "    <tr>\n",
       "      <th>0</th>\n",
       "      <td>Art</td>\n",
       "      <td>Venere</td>\n",
       "      <td>8 W Cerritos Ave #54</td>\n",
       "      <td>Bridgeport</td>\n",
       "      <td>NJ</td>\n",
       "      <td>8014</td>\n",
       "      <td>8562644130</td>\n",
       "      <td>Здраво, јас сум заинтересиран да ја испробам н...</td>\n",
       "      <td>True</td>\n",
       "    </tr>\n",
       "    <tr>\n",
       "      <th>1</th>\n",
       "      <td>Abel</td>\n",
       "      <td>Maclead</td>\n",
       "      <td>37275 St  Rt 17m M</td>\n",
       "      <td>Middle Island</td>\n",
       "      <td>NY</td>\n",
       "      <td>11953</td>\n",
       "      <td>6316773675</td>\n",
       "      <td>Hej, chciałbym się skontaktować w sprawie wspó...</td>\n",
       "      <td>True</td>\n",
       "    </tr>\n",
       "    <tr>\n",
       "      <th>2</th>\n",
       "      <td>Frieden</td>\n",
       "      <td>Richard</td>\n",
       "      <td>6360 Wilshire Blvd Ste 506</td>\n",
       "      <td>Los Angeles</td>\n",
       "      <td>CA</td>\n",
       "      <td>90048</td>\n",
       "      <td>3236553854</td>\n",
       "      <td>Živjo! Imam nekaj vprašanj o vašem podjetju v ...</td>\n",
       "      <td>True</td>\n",
       "    </tr>\n",
       "    <tr>\n",
       "      <th>3</th>\n",
       "      <td>Tina</td>\n",
       "      <td>Mendoza</td>\n",
       "      <td>10599 Michael Cliffs</td>\n",
       "      <td>Dannyfort</td>\n",
       "      <td>PA</td>\n",
       "      <td>96251</td>\n",
       "      <td>3148244193</td>\n",
       "      <td>Ola, estou interesado en probar o seu servizo....</td>\n",
       "      <td>True</td>\n",
       "    </tr>\n",
       "    <tr>\n",
       "      <th>4</th>\n",
       "      <td>Richard</td>\n",
       "      <td>Garcia</td>\n",
       "      <td>13942 Flores Greens</td>\n",
       "      <td>New David</td>\n",
       "      <td>KS</td>\n",
       "      <td>11905</td>\n",
       "      <td>3612617977</td>\n",
       "      <td>मलाई लाग्छ तपाईंको सेवा हाम्रो व्यवसाय को लागी...</td>\n",
       "      <td>True</td>\n",
       "    </tr>\n",
       "  </tbody>\n",
       "</table>\n",
       "</div>"
      ],
      "text/plain": [
       "  first_name last_name                     address           city state  \\\n",
       "0        Art    Venere        8 W Cerritos Ave #54     Bridgeport    NJ   \n",
       "1       Abel   Maclead          37275 St  Rt 17m M  Middle Island    NY   \n",
       "2    Frieden   Richard  6360 Wilshire Blvd Ste 506    Los Angeles    CA   \n",
       "3       Tina   Mendoza        10599 Michael Cliffs      Dannyfort    PA   \n",
       "4    Richard    Garcia         13942 Flores Greens      New David    KS   \n",
       "\n",
       "     zip       phone                                       Introduction  \\\n",
       "0   8014  8562644130  Здраво, јас сум заинтересиран да ја испробам н...   \n",
       "1  11953  6316773675  Hej, chciałbym się skontaktować w sprawie wspó...   \n",
       "2  90048  3236553854  Živjo! Imam nekaj vprašanj o vašem podjetju v ...   \n",
       "3  96251  3148244193  Ola, estou interesado en probar o seu servizo....   \n",
       "4  11905  3612617977  मलाई लाग्छ तपाईंको सेवा हाम्रो व्यवसाय को लागी...   \n",
       "\n",
       "   real_phone_number?  \n",
       "0                True  \n",
       "1                True  \n",
       "2                True  \n",
       "3                True  \n",
       "4                True  "
      ]
     },
     "execution_count": 41,
     "metadata": {},
     "output_type": "execute_result"
    }
   ],
   "source": [
    "# Print `verified_contacts`\n",
    "verified_contacts.head()"
   ]
  },
  {
   "cell_type": "code",
   "execution_count": 42,
   "metadata": {
    "ExecuteTime": {
     "end_time": "2021-04-27T03:49:20.959355Z",
     "start_time": "2021-04-27T03:49:20.930597Z"
    }
   },
   "outputs": [
    {
     "name": "stdout",
     "output_type": "stream",
     "text": [
      "60.0%\n"
     ]
    }
   ],
   "source": [
    "# Print percentage of valid contacts\n",
    "percent_valid = len(verified_contacts) / len(contacts) * 100\n",
    "print(str(round(percent_valid, 2)) + \"%\")"
   ]
  },
  {
   "cell_type": "markdown",
   "metadata": {},
   "source": [
    "### Problem 4: Export CSV of Real Contacts"
   ]
  },
  {
   "cell_type": "code",
   "execution_count": 43,
   "metadata": {},
   "outputs": [],
   "source": [
    "# Finally, output real contacts to`FilteredContactsList.csv`\n",
    "contacts.to_csv('FilteredContactsList.csv', index=False)"
   ]
  }
 ],
 "metadata": {
  "kernelspec": {
   "display_name": "Python 3 (ipykernel)",
   "language": "python",
   "name": "python3"
  },
  "language_info": {
   "codemirror_mode": {
    "name": "ipython",
    "version": 3
   },
   "file_extension": ".py",
   "mimetype": "text/x-python",
   "name": "python",
   "nbconvert_exporter": "python",
   "pygments_lexer": "ipython3",
   "version": "3.9.13"
  }
 },
 "nbformat": 4,
 "nbformat_minor": 4
}
