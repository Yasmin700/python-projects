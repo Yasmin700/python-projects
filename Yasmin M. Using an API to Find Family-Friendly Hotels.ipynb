{
 "cells": [
  {
   "cell_type": "markdown",
   "id": "d0d070ba",
   "metadata": {},
   "source": [
    "# Finding Family-Friendly Hotels"
   ]
  },
  {
   "cell_type": "markdown",
   "id": "a16019af",
   "metadata": {},
   "source": [
    "### Load the JSON Data & Extract Relevant Data\n"
   ]
  },
  {
   "cell_type": "code",
   "execution_count": 3,
   "id": "38065d1b",
   "metadata": {},
   "outputs": [],
   "source": [
    "import json\n",
    "import pprint\n",
    "import pandas as pd"
   ]
  },
  {
   "cell_type": "code",
   "execution_count": 4,
   "id": "aa7762a7",
   "metadata": {},
   "outputs": [],
   "source": [
    "filename = 'AmadeusHotelExample.json'"
   ]
  },
  {
   "cell_type": "code",
   "execution_count": 5,
   "id": "f1baa966",
   "metadata": {},
   "outputs": [],
   "source": [
    "file = open(filename, 'r')\n",
    "raw_data = json.load(file)\n",
    "\n",
    "file.close()"
   ]
  },
  {
   "cell_type": "code",
   "execution_count": 4,
   "id": "0d760be7",
   "metadata": {},
   "outputs": [],
   "source": [
    "data = raw_data['data']"
   ]
  },
  {
   "cell_type": "code",
   "execution_count": 5,
   "id": "00d8b610",
   "metadata": {},
   "outputs": [
    {
     "data": {
      "text/plain": [
       "dict_keys(['type', 'hotel', 'available', 'offers', 'self'])"
      ]
     },
     "execution_count": 5,
     "metadata": {},
     "output_type": "execute_result"
    }
   ],
   "source": [
    "data[0].keys()"
   ]
  },
  {
   "cell_type": "markdown",
   "id": "f5920077",
   "metadata": {},
   "source": [
    "### Filtering Hotels Based on Available Amenities"
   ]
  },
  {
   "cell_type": "markdown",
   "id": "4775c77d",
   "metadata": {},
   "source": [
    "#identify which of the hotels in `data` are best for your guests by finding the ones that offer family-friendly amenities. \n",
    "\n",
    "should see the following output: \n",
    "\n",
    "```\n",
    "# Length of `suggestions`\n",
    "13\n",
    "\n",
    "# First element of `suggestions`\n",
    "{'available': True,\n",
    " 'hotel': {'address': {'cityName': 'LONDON',\n",
    "                       'countryCode': 'GB',\n",
    "                       'lines': [...],\n",
    "                       'postalCode': 'SW1A 2EJ'},\n",
    "           'amenities': [...],\n",
    "           'chainCode': 'TI',\n",
    "           'cityCode': 'LON',\n",
    "           'contact': {'fax': '44-207-9304010', 'phone': '44-207-8393400'},\n",
    "           'description': {'lang': 'en',\n",
    "                           'text': ...},\n",
    "           'dupeId': '700012062',\n",
    "           'hotelDistance': {'distance': 0.2, 'distanceUnit': 'KM'},\n",
    "           'hotelId': 'TILONRHO',\n",
    "           'latitude': 51.5055,\n",
    "           'longitude': -0.1242,\n",
    "           'media': [{...}],\n",
    "           'name': 'THE ROYAL HORSEGUARDS',\n",
    "           'rating': '5',\n",
    "           'type': 'hotel'},\n",
    " 'offers': [{'checkInDate': '2021-01-13',\n",
    "             'checkOutDate': '2021-01-14',\n",
    "             'commission': {...},\n",
    "             'guests': {...},\n",
    "             'id': 'JBD6O692RH',\n",
    "             'policies': {...},\n",
    "             'price': {...},\n",
    "             'rateCode': 'COR',\n",
    "             'rateFamilyEstimated': {...},\n",
    "             'room': {...}}],\n",
    " 'self': 'https://test.api.amadeus.com/v2/shopping/hotel-offers/by-hotel?hotelId=TILONRHO&adults=2&paymentPolicy=NONE&roomQuantity=1&view=FULL',\n",
    " 'type': 'hotel-offers'}\n",
    "```\n"
   ]
  },
  {
   "cell_type": "code",
   "execution_count": 6,
   "id": "5808e309",
   "metadata": {},
   "outputs": [],
   "source": [
    "suggestions = []\n",
    "family_friendly_amenities = [\n",
    "  'INDOORPOOL', \n",
    "  'BABY-SITTING',\n",
    "  'RESTAURANT',\n",
    "]"
   ]
  },
  {
   "cell_type": "code",
   "execution_count": 7,
   "id": "0efc433a",
   "metadata": {},
   "outputs": [],
   "source": [
    "for entry in data:\n",
    "    # Get each `hotel` entry\n",
    "    hotel = entry['hotel']\n",
    "    # Check if any `amenity` is in `hotel['amenities']`\n",
    "    for amenity in family_friendly_amenities:\n",
    "        if amenity in hotel['amenities']:\n",
    "            # Append hotel\n",
    "            suggestions.append(entry)\n",
    "            # Prevents adding the same hotel multiple times\n",
    "            break"
   ]
  },
  {
   "cell_type": "code",
   "execution_count": 8,
   "id": "6c841712",
   "metadata": {},
   "outputs": [
    {
     "name": "stdout",
     "output_type": "stream",
     "text": [
      "13\n",
      "\n",
      "{'available': True,\n",
      " 'hotel': {'address': {'cityName': 'LONDON',\n",
      "                       'countryCode': 'GB',\n",
      "                       'lines': ['2 WHITEHALL COURT'],\n",
      "                       'postalCode': 'SW1A 2EJ'},\n",
      "           'amenities': ['AUDIO-VISUAL_EQUIPMENT',\n",
      "                         'BUSINESS_CENTER',\n",
      "                         'CONVENTION_CENTRE',\n",
      "                         'MEETING_ROOMS',\n",
      "                         'LOUNGE',\n",
      "                         'RESTAURANT',\n",
      "                         'DISABLED_FACILITIES',\n",
      "                         'ACCESSIBLE_BATHS',\n",
      "                         'WHEELCHAIR_ACCESSIBLE_WASHBASIN',\n",
      "                         'ACCESSIBLE_BATH_CONTROLS',\n",
      "                         'WHEELCHAIR_ACCESSIBLE_LIGHT_SWITCH',\n",
      "                         'WHEELCHAIR_ACCESSIBLE_ELEVATORS',\n",
      "                         'DISABLED_ACCESSIBLE_TOILETS',\n",
      "                         'DISABLED_TRAINED_STAFF',\n",
      "                         'EMERGENCY_PLAN_FOR_DISABLED',\n",
      "                         'HEARING_INDUCTION_LOOPS',\n",
      "                         'HANDRAILS_BATHROOM',\n",
      "                         'VIBRATING_PILLOWS_AVAILABLE',\n",
      "                         'ADAPT_ROOM_DOORS',\n",
      "                         'WHEELCHAIR_ACCESSIBLE_ROOM',\n",
      "                         'WHEELCHAIR_ACCESSIBLE_PUBLIC_AREA',\n",
      "                         'WIDE_ENTRANCE',\n",
      "                         'WIDE_CORRIDORS',\n",
      "                         'WIDE_RESTAURANT_ENTRANCE',\n",
      "                         'HANDRAILS_BATHROOM',\n",
      "                         'FIRST_AID_STAF',\n",
      "                         'INTERIOR_ROOM_ENTRY',\n",
      "                         'EMERGENCY_LIGHTING',\n",
      "                         'FIRE_DETECTORS',\n",
      "                         'EXTINGUISHERS',\n",
      "                         'FIRE_SAFETY',\n",
      "                         'RESTRICTED_PUBLIC_ACCESS',\n",
      "                         'SMOKE_DETECTOR',\n",
      "                         'VIDEO_SURVEILANCE',\n",
      "                         'BABY-SITTING',\n",
      "                         'CAR_RENTAL',\n",
      "                         'KIDS_WELCOME',\n",
      "                         'ELEVATOR',\n",
      "                         'EXCHANGE_FACILITIES',\n",
      "                         'INTERNET_HOTSPOTS',\n",
      "                         'FREE_INTERNET',\n",
      "                         'WIFI',\n",
      "                         'JACUZZI',\n",
      "                         'LAUNDRY_SERVICE',\n",
      "                         'VALET_PARKING',\n",
      "                         'LOUNGE',\n",
      "                         'ROOM_SERVICE',\n",
      "                         'BALLROOM',\n",
      "                         'AIR_CONDITIONING',\n",
      "                         'HAIR_DRYER',\n",
      "                         'MINIBAR',\n",
      "                         'MOVIE_CHANNELS',\n",
      "                         'NON_SMOKING_ROOMS',\n",
      "                         'PC_HOOKUP_IN_ROOM',\n",
      "                         'TELEVISION',\n",
      "                         'WI-FI_IN_ROOM',\n",
      "                         'TELECONFERENCE',\n",
      "                         'SIGHTSEEING',\n",
      "                         'FITNESS_CENTER'],\n",
      "           'chainCode': 'TI',\n",
      "           'cityCode': 'LON',\n",
      "           'contact': {'fax': '44-207-9304010', 'phone': '44-207-8393400'},\n",
      "           'description': {'lang': 'en',\n",
      "                           'text': 'We are delighted to announce that The '\n",
      "                                   'Royal Horseguards hotel has won the '\n",
      "                                   'prestigious accolade of AA London Hotel of '\n",
      "                                   'the Year 2010 â€“ 2011.   With 281 '\n",
      "                                   'luxurious bedrooms, including a choice of '\n",
      "                                   'Suites and an Apartment, The Royal '\n",
      "                                   'Horseguards has a grandeur and opulence to '\n",
      "                                   'match its prestigious Whitehall address. '\n",
      "                                   'Next door is One Whitehall Place, our '\n",
      "                                   'dedicated meetings and conference '\n",
      "                                   'facility. Part of the same magnificent '\n",
      "                                   'building, it shares the hotelâ€™s unique '\n",
      "                                   'splendour and ambiance, giving any event a '\n",
      "                                   'real sense of occasion. And with the hotel '\n",
      "                                   'near Charing Cross Tube and mainline '\n",
      "                                   'stations, itâ€™s easy to bring people '\n",
      "                                   'together for business or pleasure.'},\n",
      "           'dupeId': '700012062',\n",
      "           'hotelDistance': {'distance': 0.2, 'distanceUnit': 'KM'},\n",
      "           'hotelId': 'TILONRHO',\n",
      "           'latitude': 51.5055,\n",
      "           'longitude': -0.1242,\n",
      "           'media': [{'category': 'EXTERIOR',\n",
      "                      'uri': 'http://uat.multimediarepository.testing.amadeus.com/cmr/retrieve/hotel/4F0D9CBEB90B4275A1A7929AE626DE5E'}],\n",
      "           'name': 'THE ROYAL HORSEGUARDS',\n",
      "           'rating': '5',\n",
      "           'type': 'hotel'},\n",
      " 'offers': [{'checkInDate': '2021-01-13',\n",
      "             'checkOutDate': '2021-01-14',\n",
      "             'commission': {'percentage': '8.0'},\n",
      "             'guests': {'adults': 2},\n",
      "             'id': 'JBD6O692RH',\n",
      "             'policies': {'deposit': {'acceptedPayments': {'creditCards': ['AX',\n",
      "                                                                           'DC',\n",
      "                                                                           'MC',\n",
      "                                                                           'SW',\n",
      "                                                                           'VI'],\n",
      "                                                           'methods': ['CREDIT_CARD']}},\n",
      "                          'paymentType': 'deposit'},\n",
      "             'price': {'base': '275.00',\n",
      "                       'currency': 'GBP',\n",
      "                       'total': '275.00',\n",
      "                       'variations': {'average': {'base': '275.00'},\n",
      "                                      'changes': [{'base': '275.00',\n",
      "                                                   'endDate': '2021-01-14',\n",
      "                                                   'startDate': '2021-01-13'}]}},\n",
      "             'rateCode': 'COR',\n",
      "             'rateFamilyEstimated': {'code': 'PRO', 'type': 'P'},\n",
      "             'room': {'description': {'text': 'Prepay and Save\\n'\n",
      "                                              'Standard Room 1 Double Bed Fast '\n",
      "                                              'Free WiFi Intl\\n'\n",
      "                                              'Prepay and Save Inclusive of '\n",
      "                                              'Tax Only Non'},\n",
      "                      'type': 'K1D',\n",
      "                      'typeEstimated': {'bedType': 'DOUBLE',\n",
      "                                        'beds': 1,\n",
      "                                        'category': 'STANDARD_ROOM'}}}],\n",
      " 'self': 'https://test.api.amadeus.com/v2/shopping/hotel-offers/by-hotel?hotelId=TILONRHO&adults=2&paymentPolicy=NONE&roomQuantity=1&view=FULL',\n",
      " 'type': 'hotel-offers'}\n"
     ]
    }
   ],
   "source": [
    "# Print length of `suggestions`\n",
    "print(len(suggestions))\n",
    "\n",
    "print()\n",
    "\n",
    "# Print first element of `suggestions`\n",
    "pprint.pprint(suggestions[0])"
   ]
  },
  {
   "cell_type": "markdown",
   "id": "3f021a78",
   "metadata": {},
   "source": [
    "### Extract Hotel Prices"
   ]
  },
  {
   "cell_type": "code",
   "execution_count": 9,
   "id": "ebe9c2c0",
   "metadata": {},
   "outputs": [],
   "source": [
    "# Iterate over `suggestions`\n",
    "for entry in suggestions:\n",
    "    # Get `hotel` and `offers` values \n",
    "    hotel = entry['hotel']\n",
    "    offers = entry['offers']    \n",
    "    # Set `price` key on `hotel`; Convert the extracted price to a float\n",
    "    hotel['price'] = float(offers[0]['price']['total'])"
   ]
  },
  {
   "cell_type": "code",
   "execution_count": 10,
   "id": "fb675e89",
   "metadata": {},
   "outputs": [
    {
     "data": {
      "text/plain": [
       "275.0"
      ]
     },
     "execution_count": 10,
     "metadata": {},
     "output_type": "execute_result"
    }
   ],
   "source": [
    "# Print first suggestion's `hotel.price` key to verify that it has been added successfully\n",
    "suggestions[0]['hotel']['price']"
   ]
  },
  {
   "cell_type": "markdown",
   "id": "7c6d07a2",
   "metadata": {},
   "source": [
    "### Creating a CSV"
   ]
  },
  {
   "cell_type": "code",
   "execution_count": null,
   "id": "c9c0f1ff",
   "metadata": {},
   "outputs": [],
   "source": [
    "columns_to_save = ['name', 'cityCode', 'rating', 'latitude', 'longitude', 'price']"
   ]
  },
  {
   "cell_type": "code",
   "execution_count": 56,
   "id": "e0d16ec2",
   "metadata": {},
   "outputs": [],
   "source": [
    "# Create `suggested_hotels` and Iterate over the list of `suggestions` and append the `hotel` key of each element to `suggested_hotels`\n",
    "suggested_hotels = [entry['hotel'] for entry in suggestions]"
   ]
  },
  {
   "cell_type": "code",
   "execution_count": 58,
   "id": "99f5ef10",
   "metadata": {},
   "outputs": [],
   "source": [
    "# Create DataFrame with subset of columns\n",
    "df = pd.DataFrame(data=suggested_hotels, columns=columns_to_save)"
   ]
  },
  {
   "cell_type": "code",
   "execution_count": 69,
   "id": "6082776a",
   "metadata": {},
   "outputs": [],
   "source": [
    "# Title-case every hotel name in the DataFrame\n",
    "df['name'] = df['name'].str.title()"
   ]
  },
  {
   "cell_type": "code",
   "execution_count": 67,
   "id": "41bf09b8",
   "metadata": {},
   "outputs": [],
   "source": [
    "# Create CSV file, without index column\n",
    "df.to_csv('suggestions.csv', index=False)"
   ]
  }
 ],
 "metadata": {
  "kernelspec": {
   "display_name": "Python 3 (ipykernel)",
   "language": "python",
   "name": "python3"
  },
  "language_info": {
   "codemirror_mode": {
    "name": "ipython",
    "version": 3
   },
   "file_extension": ".py",
   "mimetype": "text/x-python",
   "name": "python",
   "nbconvert_exporter": "python",
   "pygments_lexer": "ipython3",
   "version": "3.9.13"
  }
 },
 "nbformat": 4,
 "nbformat_minor": 5
}
