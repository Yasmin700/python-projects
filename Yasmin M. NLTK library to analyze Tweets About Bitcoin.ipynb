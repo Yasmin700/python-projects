{
 "cells": [
  {
   "cell_type": "markdown",
   "metadata": {},
   "source": [
    "# Feeling Bitcoin\n"
   ]
  },
  {
   "cell_type": "markdown",
   "metadata": {},
   "source": [
    "##  Vader Model"
   ]
  },
  {
   "cell_type": "markdown",
   "metadata": {},
   "source": [
    "### Preparing Data and Model\n"
   ]
  },
  {
   "cell_type": "code",
   "execution_count": 1,
   "metadata": {},
   "outputs": [],
   "source": [
    "import spacy\n",
    "import en_core_web_sm\n",
    "import nltk\n",
    "from nltk.sentiment.vader import SentimentIntensityAnalyzer\n",
    "import pandas as pd\n",
    "from collections import Counter\n"
   ]
  },
  {
   "cell_type": "code",
   "execution_count": 2,
   "metadata": {},
   "outputs": [
    {
     "name": "stderr",
     "output_type": "stream",
     "text": [
      "[nltk_data] Downloading package vader_lexicon to\n",
      "[nltk_data]     C:\\Users\\Yasmin\\AppData\\Roaming\\nltk_data...\n",
      "[nltk_data]   Package vader_lexicon is already up-to-date!\n"
     ]
    }
   ],
   "source": [
    "# TODO: Use NLTK's download method to download the vader lexicon\n",
    "nltk.download(\"vader_lexicon\")\n",
    "# TODO: Instantiate the SentimentIntensityAnalyzer into a variable analyzer\n",
    "analyzer = SentimentIntensityAnalyzer()"
   ]
  },
  {
   "cell_type": "code",
   "execution_count": 3,
   "metadata": {},
   "outputs": [
    {
     "data": {
      "text/html": [
       "<div>\n",
       "<style scoped>\n",
       "    .dataframe tbody tr th:only-of-type {\n",
       "        vertical-align: middle;\n",
       "    }\n",
       "\n",
       "    .dataframe tbody tr th {\n",
       "        vertical-align: top;\n",
       "    }\n",
       "\n",
       "    .dataframe thead th {\n",
       "        text-align: right;\n",
       "    }\n",
       "</style>\n",
       "<table border=\"1\" class=\"dataframe\">\n",
       "  <thead>\n",
       "    <tr style=\"text-align: right;\">\n",
       "      <th></th>\n",
       "      <th>Unnamed: 0.1</th>\n",
       "      <th>Unnamed: 0</th>\n",
       "      <th>id</th>\n",
       "      <th>timestamp</th>\n",
       "      <th>user</th>\n",
       "      <th>replies</th>\n",
       "      <th>likes</th>\n",
       "      <th>retweets</th>\n",
       "      <th>text</th>\n",
       "    </tr>\n",
       "  </thead>\n",
       "  <tbody>\n",
       "    <tr>\n",
       "      <th>0</th>\n",
       "      <td>105027</td>\n",
       "      <td>5625766</td>\n",
       "      <td>9.393023e+17</td>\n",
       "      <td>2017-12-09 00:14:51+00</td>\n",
       "      <td>BitcoinPoll</td>\n",
       "      <td>0.0</td>\n",
       "      <td>0.0</td>\n",
       "      <td>0.0</td>\n",
       "      <td>$LTC to doubled its value soon? #Litecoins #bi...</td>\n",
       "    </tr>\n",
       "    <tr>\n",
       "      <th>1</th>\n",
       "      <td>36386</td>\n",
       "      <td>2251044</td>\n",
       "      <td>8.857079e+17</td>\n",
       "      <td>2017-07-14 01:49:54+00</td>\n",
       "      <td>aimanstronk_</td>\n",
       "      <td>0.0</td>\n",
       "      <td>0.0</td>\n",
       "      <td>0.0</td>\n",
       "      <td>Tukar ke bitcoin. Lpstu tukar bitcoin ke RM. s...</td>\n",
       "    </tr>\n",
       "    <tr>\n",
       "      <th>2</th>\n",
       "      <td>141547</td>\n",
       "      <td>3797663</td>\n",
       "      <td>9.607030e+17</td>\n",
       "      <td>2018-02-06 01:33:36+00</td>\n",
       "      <td>WBlizters</td>\n",
       "      <td>0.0</td>\n",
       "      <td>1.0</td>\n",
       "      <td>0.0</td>\n",
       "      <td>I got 3 bitcoin for my pancreas</td>\n",
       "    </tr>\n",
       "    <tr>\n",
       "      <th>3</th>\n",
       "      <td>52671</td>\n",
       "      <td>4354916</td>\n",
       "      <td>9.172289e+17</td>\n",
       "      <td>2017-10-09 01:22:54+00</td>\n",
       "      <td>JAIROGLYPHIC_JR</td>\n",
       "      <td>0.0</td>\n",
       "      <td>0.0</td>\n",
       "      <td>0.0</td>\n",
       "      <td>@GenesisMining when will there be more btc min...</td>\n",
       "    </tr>\n",
       "    <tr>\n",
       "      <th>4</th>\n",
       "      <td>61020</td>\n",
       "      <td>4250362</td>\n",
       "      <td>9.176055e+17</td>\n",
       "      <td>2017-10-10 02:19:46+00</td>\n",
       "      <td>sskknn00</td>\n",
       "      <td>0.0</td>\n",
       "      <td>0.0</td>\n",
       "      <td>0.0</td>\n",
       "      <td>yep they are not calling btc-core BTC, how dar...</td>\n",
       "    </tr>\n",
       "  </tbody>\n",
       "</table>\n",
       "</div>"
      ],
      "text/plain": [
       "   Unnamed: 0.1  Unnamed: 0            id               timestamp  \\\n",
       "0        105027     5625766  9.393023e+17  2017-12-09 00:14:51+00   \n",
       "1         36386     2251044  8.857079e+17  2017-07-14 01:49:54+00   \n",
       "2        141547     3797663  9.607030e+17  2018-02-06 01:33:36+00   \n",
       "3         52671     4354916  9.172289e+17  2017-10-09 01:22:54+00   \n",
       "4         61020     4250362  9.176055e+17  2017-10-10 02:19:46+00   \n",
       "\n",
       "              user  replies  likes  retweets  \\\n",
       "0      BitcoinPoll      0.0    0.0       0.0   \n",
       "1     aimanstronk_      0.0    0.0       0.0   \n",
       "2        WBlizters      0.0    1.0       0.0   \n",
       "3  JAIROGLYPHIC_JR      0.0    0.0       0.0   \n",
       "4         sskknn00      0.0    0.0       0.0   \n",
       "\n",
       "                                                text  \n",
       "0  $LTC to doubled its value soon? #Litecoins #bi...  \n",
       "1  Tukar ke bitcoin. Lpstu tukar bitcoin ke RM. s...  \n",
       "2                    I got 3 bitcoin for my pancreas  \n",
       "3  @GenesisMining when will there be more btc min...  \n",
       "4  yep they are not calling btc-core BTC, how dar...  "
      ]
     },
     "execution_count": 3,
     "metadata": {},
     "output_type": "execute_result"
    }
   ],
   "source": [
    "df = pd.read_csv(\"tweets.csv\")\n",
    "# TODO: Preview the df using .head()\n",
    "df.head()"
   ]
  },
  {
   "cell_type": "markdown",
   "metadata": {},
   "source": [
    "### Calculating Polarity\n"
   ]
  },
  {
   "cell_type": "code",
   "execution_count": 4,
   "metadata": {},
   "outputs": [
    {
     "data": {
      "text/plain": [
       "{'neg': 0.0, 'neu': 0.769, 'pos': 0.231, 'compound': 0.34}"
      ]
     },
     "execution_count": 4,
     "metadata": {},
     "output_type": "execute_result"
    }
   ],
   "source": [
    "sample_text = df.iloc[0][\"text\"]\n",
    "analyzer.polarity_scores(sample_text)"
   ]
  },
  {
   "cell_type": "code",
   "execution_count": 5,
   "metadata": {},
   "outputs": [
    {
     "data": {
      "text/html": [
       "<div>\n",
       "<style scoped>\n",
       "    .dataframe tbody tr th:only-of-type {\n",
       "        vertical-align: middle;\n",
       "    }\n",
       "\n",
       "    .dataframe tbody tr th {\n",
       "        vertical-align: top;\n",
       "    }\n",
       "\n",
       "    .dataframe thead th {\n",
       "        text-align: right;\n",
       "    }\n",
       "</style>\n",
       "<table border=\"1\" class=\"dataframe\">\n",
       "  <thead>\n",
       "    <tr style=\"text-align: right;\">\n",
       "      <th></th>\n",
       "      <th>neg</th>\n",
       "      <th>neu</th>\n",
       "      <th>pos</th>\n",
       "      <th>compound</th>\n",
       "    </tr>\n",
       "  </thead>\n",
       "  <tbody>\n",
       "    <tr>\n",
       "      <th>0</th>\n",
       "      <td>0.000</td>\n",
       "      <td>0.769</td>\n",
       "      <td>0.231</td>\n",
       "      <td>0.3400</td>\n",
       "    </tr>\n",
       "    <tr>\n",
       "      <th>1</th>\n",
       "      <td>0.000</td>\n",
       "      <td>0.888</td>\n",
       "      <td>0.112</td>\n",
       "      <td>0.2263</td>\n",
       "    </tr>\n",
       "    <tr>\n",
       "      <th>2</th>\n",
       "      <td>0.000</td>\n",
       "      <td>1.000</td>\n",
       "      <td>0.000</td>\n",
       "      <td>0.0000</td>\n",
       "    </tr>\n",
       "    <tr>\n",
       "      <th>3</th>\n",
       "      <td>0.000</td>\n",
       "      <td>1.000</td>\n",
       "      <td>0.000</td>\n",
       "      <td>0.0000</td>\n",
       "    </tr>\n",
       "    <tr>\n",
       "      <th>4</th>\n",
       "      <td>0.432</td>\n",
       "      <td>0.480</td>\n",
       "      <td>0.088</td>\n",
       "      <td>-0.8622</td>\n",
       "    </tr>\n",
       "  </tbody>\n",
       "</table>\n",
       "</div>"
      ],
      "text/plain": [
       "     neg    neu    pos  compound\n",
       "0  0.000  0.769  0.231    0.3400\n",
       "1  0.000  0.888  0.112    0.2263\n",
       "2  0.000  1.000  0.000    0.0000\n",
       "3  0.000  1.000  0.000    0.0000\n",
       "4  0.432  0.480  0.088   -0.8622"
      ]
     },
     "execution_count": 5,
     "metadata": {},
     "output_type": "execute_result"
    }
   ],
   "source": [
    "text_data = df[\"text\"].astype(\"str\")\n",
    "# TODO: calculate polarity scores for all rows of the `text` column using .apply() and store in a new variable called \"raw_scores\".\n",
    "raw_scores = text_data.apply(analyzer.polarity_scores)\n",
    "scores_df = pd.DataFrame(list(raw_scores))\n",
    "scores_df.head()"
   ]
  },
  {
   "cell_type": "code",
   "execution_count": 6,
   "metadata": {},
   "outputs": [],
   "source": [
    "# TODO: create a new column `\"compound_sentiment\"` on the `df` dataframe from the `scores_df`'s column for `\"compound\"`\n",
    "df[\"compound_sentiment\"] = scores_df[\"compound\"]"
   ]
  },
  {
   "cell_type": "code",
   "execution_count": 7,
   "metadata": {},
   "outputs": [
    {
     "data": {
      "text/html": [
       "<div>\n",
       "<style scoped>\n",
       "    .dataframe tbody tr th:only-of-type {\n",
       "        vertical-align: middle;\n",
       "    }\n",
       "\n",
       "    .dataframe tbody tr th {\n",
       "        vertical-align: top;\n",
       "    }\n",
       "\n",
       "    .dataframe thead th {\n",
       "        text-align: right;\n",
       "    }\n",
       "</style>\n",
       "<table border=\"1\" class=\"dataframe\">\n",
       "  <thead>\n",
       "    <tr style=\"text-align: right;\">\n",
       "      <th></th>\n",
       "      <th>Unnamed: 0.1</th>\n",
       "      <th>Unnamed: 0</th>\n",
       "      <th>id</th>\n",
       "      <th>timestamp</th>\n",
       "      <th>user</th>\n",
       "      <th>replies</th>\n",
       "      <th>likes</th>\n",
       "      <th>retweets</th>\n",
       "      <th>text</th>\n",
       "      <th>compound_sentiment</th>\n",
       "    </tr>\n",
       "  </thead>\n",
       "  <tbody>\n",
       "    <tr>\n",
       "      <th>0</th>\n",
       "      <td>105027</td>\n",
       "      <td>5625766</td>\n",
       "      <td>9.393023e+17</td>\n",
       "      <td>2017-12-09 00:14:51+00</td>\n",
       "      <td>BitcoinPoll</td>\n",
       "      <td>0.0</td>\n",
       "      <td>0.0</td>\n",
       "      <td>0.0</td>\n",
       "      <td>$LTC to doubled its value soon? #Litecoins #bi...</td>\n",
       "      <td>0.3400</td>\n",
       "    </tr>\n",
       "    <tr>\n",
       "      <th>1</th>\n",
       "      <td>36386</td>\n",
       "      <td>2251044</td>\n",
       "      <td>8.857079e+17</td>\n",
       "      <td>2017-07-14 01:49:54+00</td>\n",
       "      <td>aimanstronk_</td>\n",
       "      <td>0.0</td>\n",
       "      <td>0.0</td>\n",
       "      <td>0.0</td>\n",
       "      <td>Tukar ke bitcoin. Lpstu tukar bitcoin ke RM. s...</td>\n",
       "      <td>0.2263</td>\n",
       "    </tr>\n",
       "    <tr>\n",
       "      <th>2</th>\n",
       "      <td>141547</td>\n",
       "      <td>3797663</td>\n",
       "      <td>9.607030e+17</td>\n",
       "      <td>2018-02-06 01:33:36+00</td>\n",
       "      <td>WBlizters</td>\n",
       "      <td>0.0</td>\n",
       "      <td>1.0</td>\n",
       "      <td>0.0</td>\n",
       "      <td>I got 3 bitcoin for my pancreas</td>\n",
       "      <td>0.0000</td>\n",
       "    </tr>\n",
       "    <tr>\n",
       "      <th>3</th>\n",
       "      <td>52671</td>\n",
       "      <td>4354916</td>\n",
       "      <td>9.172289e+17</td>\n",
       "      <td>2017-10-09 01:22:54+00</td>\n",
       "      <td>JAIROGLYPHIC_JR</td>\n",
       "      <td>0.0</td>\n",
       "      <td>0.0</td>\n",
       "      <td>0.0</td>\n",
       "      <td>@GenesisMining when will there be more btc min...</td>\n",
       "      <td>0.0000</td>\n",
       "    </tr>\n",
       "    <tr>\n",
       "      <th>4</th>\n",
       "      <td>61020</td>\n",
       "      <td>4250362</td>\n",
       "      <td>9.176055e+17</td>\n",
       "      <td>2017-10-10 02:19:46+00</td>\n",
       "      <td>sskknn00</td>\n",
       "      <td>0.0</td>\n",
       "      <td>0.0</td>\n",
       "      <td>0.0</td>\n",
       "      <td>yep they are not calling btc-core BTC, how dar...</td>\n",
       "      <td>-0.8622</td>\n",
       "    </tr>\n",
       "  </tbody>\n",
       "</table>\n",
       "</div>"
      ],
      "text/plain": [
       "   Unnamed: 0.1  Unnamed: 0            id               timestamp  \\\n",
       "0        105027     5625766  9.393023e+17  2017-12-09 00:14:51+00   \n",
       "1         36386     2251044  8.857079e+17  2017-07-14 01:49:54+00   \n",
       "2        141547     3797663  9.607030e+17  2018-02-06 01:33:36+00   \n",
       "3         52671     4354916  9.172289e+17  2017-10-09 01:22:54+00   \n",
       "4         61020     4250362  9.176055e+17  2017-10-10 02:19:46+00   \n",
       "\n",
       "              user  replies  likes  retweets  \\\n",
       "0      BitcoinPoll      0.0    0.0       0.0   \n",
       "1     aimanstronk_      0.0    0.0       0.0   \n",
       "2        WBlizters      0.0    1.0       0.0   \n",
       "3  JAIROGLYPHIC_JR      0.0    0.0       0.0   \n",
       "4         sskknn00      0.0    0.0       0.0   \n",
       "\n",
       "                                                text  compound_sentiment  \n",
       "0  $LTC to doubled its value soon? #Litecoins #bi...              0.3400  \n",
       "1  Tukar ke bitcoin. Lpstu tukar bitcoin ke RM. s...              0.2263  \n",
       "2                    I got 3 bitcoin for my pancreas              0.0000  \n",
       "3  @GenesisMining when will there be more btc min...              0.0000  \n",
       "4  yep they are not calling btc-core BTC, how dar...             -0.8622  "
      ]
     },
     "execution_count": 7,
     "metadata": {},
     "output_type": "execute_result"
    }
   ],
   "source": [
    "df.head()"
   ]
  },
  {
   "cell_type": "markdown",
   "metadata": {},
   "source": [
    "### Analyze Sentiment\n"
   ]
  },
  {
   "cell_type": "code",
   "execution_count": 8,
   "metadata": {},
   "outputs": [
    {
     "data": {
      "text/plain": [
       "<AxesSubplot:ylabel='Density'>"
      ]
     },
     "execution_count": 8,
     "metadata": {},
     "output_type": "execute_result"
    },
    {
     "data": {
      "image/png": "[encoded data removed]",
      "text/plain": [
       "<Figure size 640x480 with 1 Axes>"
      ]
     },
     "metadata": {},
     "output_type": "display_data"
    }
   ],
   "source": [
    "# TODO: create a density plot of compound sentiment column\n",
    "df[\"compound_sentiment\"].plot(kind=\"density\")"
   ]
  },
  {
   "cell_type": "markdown",
   "metadata": {},
   "source": [
    "\n",
    "> Detectable lean towards a more positive sentiment. "
   ]
  },
  {
   "cell_type": "code",
   "execution_count": 9,
   "metadata": {},
   "outputs": [
    {
     "data": {
      "text/plain": [
       "Unnamed: 0.1          1005\n",
       "Unnamed: 0            1005\n",
       "id                    1005\n",
       "timestamp             1005\n",
       "user                  1005\n",
       "replies               1005\n",
       "likes                 1005\n",
       "retweets              1005\n",
       "text                  1005\n",
       "compound_sentiment    1005\n",
       "dtype: int64"
      ]
     },
     "execution_count": 9,
     "metadata": {},
     "output_type": "execute_result"
    }
   ],
   "source": [
    "# TODO: .count() rows with compound_sentiment above 0.5\n",
    "df[df[\"compound_sentiment\"] > 0.5].count()"
   ]
  },
  {
   "cell_type": "code",
   "execution_count": 10,
   "metadata": {},
   "outputs": [
    {
     "data": {
      "text/plain": [
       "Unnamed: 0.1          350\n",
       "Unnamed: 0            350\n",
       "id                    350\n",
       "timestamp             350\n",
       "user                  350\n",
       "replies               350\n",
       "likes                 350\n",
       "retweets              350\n",
       "text                  350\n",
       "compound_sentiment    350\n",
       "dtype: int64"
      ]
     },
     "execution_count": 10,
     "metadata": {},
     "output_type": "execute_result"
    }
   ],
   "source": [
    "# TODO: .count() rows with compound_sentiment below -0.5\n",
    "df[df[\"compound_sentiment\"] < -0.5].count()"
   ]
  },
  {
   "cell_type": "markdown",
   "metadata": {},
   "source": [
    "> Significantly greater number of tweets are positive. \n",
    "\n",
    "> Generally mixed distribution with a clear lean towards positive sentiment."
   ]
  },
  {
   "cell_type": "markdown",
   "metadata": {},
   "source": [
    "\n",
    "##  Spacy Word Dependency Analysis"
   ]
  },
  {
   "cell_type": "markdown",
   "metadata": {},
   "source": [
    "### Spacy Model Setup\n"
   ]
  },
  {
   "cell_type": "code",
   "execution_count": 11,
   "metadata": {},
   "outputs": [],
   "source": [
    "# TODO: Instantiate a spacy model with .load() and use \"en_core_web_sm\"\n",
    "spacy_model = spacy.load(\"en_core_web_sm\")"
   ]
  },
  {
   "cell_type": "code",
   "execution_count": 12,
   "metadata": {},
   "outputs": [],
   "source": [
    "# TODO: Create a list of the ways \"bitcoin\" may be represented in text, and store in a variable bitcoin_words.\n",
    "bitcoin_words = [\"btc\", \"BTC\", \"bitcoin\", \"bitcoins\", \"Bitcoin\", \"crypto\", \"cryptocurrency\", \"token\", \"eth\", \"blockchain\", \"coin\"]"
   ]
  },
  {
   "cell_type": "code",
   "execution_count": 13,
   "metadata": {},
   "outputs": [],
   "source": [
    "def bitcoin_adjectives(corpus, target_words, expressive):\n",
    "      \n",
    "    results = []\n",
    "    \n",
    "    for doc in corpus:\n",
    "        for token in spacy_model(doc):\n",
    "        \n",
    "            if(expressive):\n",
    "                print(token.text)\n",
    "                print(token.pos_)\n",
    "                print(token.head.text)\n",
    "                print(\"\")\n",
    "\n",
    "            if token.pos_ == \"ADJ\" and token.head.text in target_words:\n",
    "                results.append(token.text)\n",
    "                \n",
    "    return results"
   ]
  },
  {
   "cell_type": "markdown",
   "metadata": {},
   "source": [
    "### Using our Function\n"
   ]
  },
  {
   "cell_type": "code",
   "execution_count": 14,
   "metadata": {},
   "outputs": [],
   "source": [
    "test_text = [\"The investors leaped for joy at their enormously profitable bitcoin.\"]"
   ]
  },
  {
   "cell_type": "code",
   "execution_count": 15,
   "metadata": {},
   "outputs": [
    {
     "name": "stdout",
     "output_type": "stream",
     "text": [
      "The\n",
      "DET\n",
      "investors\n",
      "\n",
      "investors\n",
      "NOUN\n",
      "leaped\n",
      "\n",
      "leaped\n",
      "VERB\n",
      "leaped\n",
      "\n",
      "for\n",
      "ADP\n",
      "leaped\n",
      "\n",
      "joy\n",
      "NOUN\n",
      "for\n",
      "\n",
      "at\n",
      "ADP\n",
      "leaped\n",
      "\n",
      "their\n",
      "PRON\n",
      "bitcoin\n",
      "\n",
      "enormously\n",
      "ADV\n",
      "profitable\n",
      "\n",
      "profitable\n",
      "ADJ\n",
      "bitcoin\n",
      "\n",
      "bitcoin\n",
      "NOUN\n",
      "at\n",
      "\n",
      ".\n",
      "PUNCT\n",
      "leaped\n",
      "\n"
     ]
    },
    {
     "data": {
      "text/plain": [
       "['profitable']"
      ]
     },
     "execution_count": 15,
     "metadata": {},
     "output_type": "execute_result"
    }
   ],
   "source": [
    "# TODO: Pass the necessary variables into the bitcoin_adjectives function to test and display your results. \n",
    "bitcoin_adjectives(test_text, bitcoin_words, True)"
   ]
  },
  {
   "cell_type": "markdown",
   "metadata": {},
   "source": [
    "### Spacy model scale-up\n",
    "\n"
   ]
  },
  {
   "cell_type": "code",
   "execution_count": null,
   "metadata": {},
   "outputs": [],
   "source": [
    "text_data = df.text\n",
    "\n",
    "adjectives = bitcoin_adjectives(text_data, bitcoin_words, False)\n",
    "\n",
    "adjectives"
   ]
  },
  {
   "cell_type": "code",
   "execution_count": null,
   "metadata": {},
   "outputs": [],
   "source": [
    "# TODO: Extract the lowercase text of the token for each token in the adjectives list into a new variable `adjective_extract`\n",
    "adjective_extract = [token.lower() for token in adjectives]\n",
    "\n",
    "# TODO: Instantiate a new Counter() using `adjective_extract`, and store into a variable `counter`\n",
    "counter = Counter(adjective_extract)\n",
    "\n",
    "# TODO: Use counter's .most_common() method to view the top 100 most frequently used modifiers of the noun bitcoin\n",
    "counter.most_common(100)"
   ]
  }
 ],
 "metadata": {
  "interpreter": {
   "hash": "a8383eef294e6eb532b9a275f580f77018a4c5ddf6bd4ca154421d62e44b7362"
  },
  "kernelspec": {
   "display_name": "Python 3 (ipykernel)",
   "language": "python",
   "name": "python3"
  },
  "language_info": {
   "codemirror_mode": {
    "name": "ipython",
    "version": 3
   },
   "file_extension": ".py",
   "mimetype": "text/x-python",
   "name": "python",
   "nbconvert_exporter": "python",
   "pygments_lexer": "ipython3",
   "version": "3.9.13"
  }
 },
 "nbformat": 4,
 "nbformat_minor": 4
}
