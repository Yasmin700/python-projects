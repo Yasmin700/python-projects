{
 "cells": [
  {
   "cell_type": "markdown",
   "metadata": {},
   "source": [
    "# Analyzing Spotify Music Data\n"
   ]
  },
  {
   "cell_type": "code",
   "execution_count": 3,
   "metadata": {},
   "outputs": [],
   "source": [
    "#Loading the CSV"
   ]
  },
  {
   "cell_type": "code",
   "execution_count": 1,
   "metadata": {},
   "outputs": [],
   "source": [
    "filename = 'SpotifyTop10.csv'"
   ]
  },
  {
   "cell_type": "code",
   "execution_count": 2,
   "metadata": {},
   "outputs": [],
   "source": [
    "file = open(filename, 'r')"
   ]
  },
  {
   "cell_type": "code",
   "execution_count": 3,
   "metadata": {},
   "outputs": [],
   "source": [
    "contents = file.read().splitlines()"
   ]
  },
  {
   "cell_type": "code",
   "execution_count": 5,
   "metadata": {},
   "outputs": [],
   "source": [
    "headers = contents[0].split('|')"
   ]
  },
  {
   "cell_type": "code",
   "execution_count": 6,
   "metadata": {},
   "outputs": [],
   "source": [
    "data = contents[1:]"
   ]
  },
  {
   "cell_type": "code",
   "execution_count": 7,
   "metadata": {},
   "outputs": [
    {
     "name": "stdout",
     "output_type": "stream",
     "text": [
      "['Title', 'Artist', 'Year', 'Popularity', 'Subgenre']\n",
      "Hey, Soul Sister|Train|2010|83|neo mellow\n"
     ]
    }
   ],
   "source": [
    "print(headers)\n",
    "print(data[0])"
   ]
  },
  {
   "cell_type": "code",
   "execution_count": null,
   "metadata": {},
   "outputs": [],
   "source": [
    "#Splitting Data"
   ]
  },
  {
   "cell_type": "code",
   "execution_count": 1,
   "metadata": {},
   "outputs": [],
   "source": [
    "titles = []\n",
    "artists = []\n",
    "years = []\n",
    "popularities = []\n",
    "subgenres = []"
   ]
  },
  {
   "cell_type": "code",
   "execution_count": 9,
   "metadata": {},
   "outputs": [],
   "source": [
    "for line in data:\n",
    "    title, artist, year, popularity, subgenre = line.split('|')\n",
    "    \n",
    "    titles.append(title)\n",
    "    artists.append(artist)\n",
    "    years.append(year)\n",
    "    popularities.append(popularity)\n",
    "    subgenres.append(subgenre)"
   ]
  },
  {
   "cell_type": "code",
   "execution_count": null,
   "metadata": {},
   "outputs": [],
   "source": [
    "#Creating a spreadsheet Dictionary"
   ]
  },
  {
   "cell_type": "code",
   "execution_count": 10,
   "metadata": {},
   "outputs": [],
   "source": [
    "spreadsheet = {\n",
    "    headers[0]: titles,\n",
    "    headers[1]: artists,\n",
    "    headers[2]: years,\n",
    "    headers[3]: popularities,\n",
    "    headers[4]: subgenres,\n",
    "}"
   ]
  },
  {
   "cell_type": "code",
   "execution_count": 11,
   "metadata": {},
   "outputs": [
    {
     "name": "stdout",
     "output_type": "stream",
     "text": [
      "Title: ['Hey, Soul Sister', 'Love The Way You Lie', 'TiK ToK']\n",
      "Artist: ['Train', 'Eminem', 'Kesha']\n",
      "Year: ['2010', '2010', '2010']\n",
      "Popularity: ['83', '82', '80']\n",
      "Subgenre: ['neo mellow', 'detroit hip hop', 'dance pop']\n"
     ]
    }
   ],
   "source": [
    "for column_name, column_data in spreadsheet.items():\n",
    "    print(column_name + \": \" + str(column_data[:3]))"
   ]
  },
  {
   "cell_type": "code",
   "execution_count": null,
   "metadata": {},
   "outputs": [],
   "source": [
    "#Converting Data Types"
   ]
  },
  {
   "cell_type": "code",
   "execution_count": 12,
   "metadata": {},
   "outputs": [],
   "source": [
    "numerical_columns = ['Popularity', 'Year']"
   ]
  },
  {
   "cell_type": "code",
   "execution_count": 13,
   "metadata": {},
   "outputs": [],
   "source": [
    "for column in numerical_columns:\n",
    "    # Convert each value in `column` to an integer\n",
    "    spreadsheet[column] = [int(value) for value in spreadsheet[column]]"
   ]
  },
  {
   "cell_type": "code",
   "execution_count": 14,
   "metadata": {},
   "outputs": [],
   "source": [
    "def count_songs_in_year(year):\n",
    "    song_count = 0\n",
    "    for release_year in spreadsheet['Year']:\n",
    "        if release_year == year:\n",
    "            song_count += 1\n",
    "    return song_count"
   ]
  },
  {
   "cell_type": "code",
   "execution_count": 15,
   "metadata": {},
   "outputs": [
    {
     "name": "stdout",
     "output_type": "stream",
     "text": [
      "51\n",
      "53\n",
      "35\n",
      "71\n",
      "58\n",
      "95\n"
     ]
    }
   ],
   "source": [
    "print(count_songs_in_year(2010))\n",
    "print(count_songs_in_year(2011))\n",
    "print(count_songs_in_year(2012))\n",
    "print(count_songs_in_year(2013))\n",
    "print(count_songs_in_year(2014))\n",
    "print(count_songs_in_year(2015))"
   ]
  },
  {
   "cell_type": "markdown",
   "metadata": {},
   "source": [
    "###  Average Popularity of Top 10 by Year\n"
   ]
  },
  {
   "cell_type": "code",
   "execution_count": 16,
   "metadata": {},
   "outputs": [],
   "source": [
    "# Method 1\n",
    "def average_popularity_in_year(year):\n",
    "    total_popularity = 0\n",
    "    year_count = 0\n",
    "    for index, release_year in enumerate(spreadsheet['Year']):\n",
    "        if release_year == year:\n",
    "            year_count += 1\n",
    "            total_popularity += spreadsheet['Popularity'][index]\n",
    "    return total_popularity / year_count"
   ]
  },
  {
   "cell_type": "code",
   "execution_count": 18,
   "metadata": {},
   "outputs": [
    {
     "data": {
      "text/plain": [
       "64.25490196078431"
      ]
     },
     "execution_count": 18,
     "metadata": {},
     "output_type": "execute_result"
    }
   ],
   "source": [
    "average_popularity_in_year(2010)"
   ]
  },
  {
   "cell_type": "markdown",
   "metadata": {},
   "source": [
    "After defining `average_popularity_in_year`, invoke it on every year from 2010 to 2015, inclusive, to print a message like the following:\n",
    "```\n",
    "64.25490196078431\n",
    "61.867924528301884\n",
    "67.77142857142857\n",
    "63.985915492957744\n",
    "62.706896551724135\n",
    "64.56842105263158\n",
    "```"
   ]
  },
  {
   "cell_type": "code",
   "execution_count": 19,
   "metadata": {},
   "outputs": [
    {
     "name": "stdout",
     "output_type": "stream",
     "text": [
      "64.25490196078431\n",
      "61.867924528301884\n",
      "67.77142857142857\n",
      "63.985915492957744\n",
      "62.706896551724135\n",
      "64.56842105263158\n"
     ]
    }
   ],
   "source": [
    "print(average_popularity_in_year(2010))\n",
    "print(average_popularity_in_year(2011))\n",
    "print(average_popularity_in_year(2012))\n",
    "print(average_popularity_in_year(2013))\n",
    "print(average_popularity_in_year(2014))\n",
    "print(average_popularity_in_year(2015))"
   ]
  },
  {
   "cell_type": "markdown",
   "metadata": {},
   "source": [
    "### Number of Songs in Interesting Genres by Year\n"
   ]
  },
  {
   "cell_type": "code",
   "execution_count": 20,
   "metadata": {},
   "outputs": [],
   "source": [
    "def count_songs_in_genre_in_year(year, genre):\n",
    "    song_genre_count = 0\n",
    "    for index, release_year in enumerate(spreadsheet['Year']):\n",
    "        if release_year == year:\n",
    "            if genre.lower() in spreadsheet['Subgenre'][index].lower():\n",
    "                song_genre_count += 1\n",
    "    return song_genre_count"
   ]
  },
  {
   "cell_type": "code",
   "execution_count": 21,
   "metadata": {},
   "outputs": [
    {
     "data": {
      "text/plain": [
       "4"
      ]
     },
     "execution_count": 21,
     "metadata": {},
     "output_type": "execute_result"
    }
   ],
   "source": [
    "count_songs_in_genre_in_year(2010, 'hip hop')"
   ]
  },
  {
   "cell_type": "code",
   "execution_count": 22,
   "metadata": {},
   "outputs": [
    {
     "name": "stdout",
     "output_type": "stream",
     "text": [
      "31\n",
      "38\n",
      "15\n",
      "42\n",
      "27\n",
      "52\n",
      "\n",
      "4\n",
      "1\n",
      "0\n",
      "2\n",
      "1\n",
      "1\n"
     ]
    }
   ],
   "source": [
    "print(count_songs_in_genre_in_year(2010, 'dance pop'))\n",
    "print(count_songs_in_genre_in_year(2011, 'dance pop'))\n",
    "print(count_songs_in_genre_in_year(2012, 'dance pop'))\n",
    "print(count_songs_in_genre_in_year(2013, 'dance pop'))\n",
    "print(count_songs_in_genre_in_year(2014, 'dance pop'))\n",
    "print(count_songs_in_genre_in_year(2015, 'dance pop'))\n",
    "\n",
    "print()\n",
    "\n",
    "print(count_songs_in_genre_in_year(2010, 'hip hop'))\n",
    "print(count_songs_in_genre_in_year(2011, 'hip hop'))\n",
    "print(count_songs_in_genre_in_year(2012, 'hip hop'))\n",
    "print(count_songs_in_genre_in_year(2013, 'hip hop'))\n",
    "print(count_songs_in_genre_in_year(2014, 'hip hop'))\n",
    "print(count_songs_in_genre_in_year(2015, 'hip hop'))"
   ]
  }
 ],
 "metadata": {
  "kernelspec": {
   "display_name": "Python 3 (ipykernel)",
   "language": "python",
   "name": "python3"
  },
  "language_info": {
   "codemirror_mode": {
    "name": "ipython",
    "version": 3
   },
   "file_extension": ".py",
   "mimetype": "text/x-python",
   "name": "python",
   "nbconvert_exporter": "python",
   "pygments_lexer": "ipython3",
   "version": "3.9.13"
  }
 },
 "nbformat": 4,
 "nbformat_minor": 2
}
