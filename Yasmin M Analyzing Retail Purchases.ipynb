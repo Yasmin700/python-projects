{
 "cells": [
  {
   "cell_type": "markdown",
   "metadata": {},
   "source": [
    "# Analyzing Retail Purchases with Pandas "
   ]
  },
  {
   "cell_type": "markdown",
   "metadata": {},
   "source": [
    "###  Load Transactions Data"
   ]
  },
  {
   "cell_type": "code",
   "execution_count": 1,
   "metadata": {},
   "outputs": [],
   "source": [
    "import pandas as pd\n",
    "\n",
    "filename = 'Transactions.csv'"
   ]
  },
  {
   "cell_type": "code",
   "execution_count": 2,
   "metadata": {
    "ExecuteTime": {
     "end_time": "2021-04-07T00:59:44.847141Z",
     "start_time": "2021-04-07T00:59:44.191349Z"
    }
   },
   "outputs": [],
   "source": [
    "transactions = pd.read_csv(filename)"
   ]
  },
  {
   "cell_type": "code",
   "execution_count": 3,
   "metadata": {
    "ExecuteTime": {
     "end_time": "2021-04-07T00:59:44.896073Z",
     "start_time": "2021-04-07T00:59:44.850743Z"
    }
   },
   "outputs": [
    {
     "data": {
      "text/html": [
       "<div>\n",
       "<style scoped>\n",
       "    .dataframe tbody tr th:only-of-type {\n",
       "        vertical-align: middle;\n",
       "    }\n",
       "\n",
       "    .dataframe tbody tr th {\n",
       "        vertical-align: top;\n",
       "    }\n",
       "\n",
       "    .dataframe thead th {\n",
       "        text-align: right;\n",
       "    }\n",
       "</style>\n",
       "<table border=\"1\" class=\"dataframe\">\n",
       "  <thead>\n",
       "    <tr style=\"text-align: right;\">\n",
       "      <th></th>\n",
       "      <th>InvoiceNo</th>\n",
       "      <th>InvoiceDate</th>\n",
       "      <th>CustomerID</th>\n",
       "      <th>StockCode</th>\n",
       "      <th>UnitPrice</th>\n",
       "      <th>QuantitySold</th>\n",
       "      <th>Description</th>\n",
       "      <th>QuantityRemaining</th>\n",
       "    </tr>\n",
       "  </thead>\n",
       "  <tbody>\n",
       "    <tr>\n",
       "      <th>0</th>\n",
       "      <td>536365</td>\n",
       "      <td>12/1/2010 8:26</td>\n",
       "      <td>17850.0</td>\n",
       "      <td>85123A</td>\n",
       "      <td>2.55</td>\n",
       "      <td>6</td>\n",
       "      <td>WHITE HANGING HEART T-LIGHT HOLDER</td>\n",
       "      <td>3</td>\n",
       "    </tr>\n",
       "    <tr>\n",
       "      <th>1</th>\n",
       "      <td>536365</td>\n",
       "      <td>12/1/2010 8:26</td>\n",
       "      <td>17850.0</td>\n",
       "      <td>71053</td>\n",
       "      <td>3.39</td>\n",
       "      <td>6</td>\n",
       "      <td>WHITE METAL LANTERN</td>\n",
       "      <td>3</td>\n",
       "    </tr>\n",
       "    <tr>\n",
       "      <th>2</th>\n",
       "      <td>536365</td>\n",
       "      <td>12/1/2010 8:26</td>\n",
       "      <td>17850.0</td>\n",
       "      <td>84406B</td>\n",
       "      <td>2.75</td>\n",
       "      <td>8</td>\n",
       "      <td>CREAM CUPID HEARTS COAT HANGER</td>\n",
       "      <td>4</td>\n",
       "    </tr>\n",
       "    <tr>\n",
       "      <th>3</th>\n",
       "      <td>536365</td>\n",
       "      <td>12/1/2010 8:26</td>\n",
       "      <td>17850.0</td>\n",
       "      <td>84029G</td>\n",
       "      <td>3.39</td>\n",
       "      <td>6</td>\n",
       "      <td>KNITTED UNION FLAG HOT WATER BOTTLE</td>\n",
       "      <td>3</td>\n",
       "    </tr>\n",
       "    <tr>\n",
       "      <th>4</th>\n",
       "      <td>536365</td>\n",
       "      <td>12/1/2010 8:26</td>\n",
       "      <td>17850.0</td>\n",
       "      <td>84029E</td>\n",
       "      <td>3.39</td>\n",
       "      <td>6</td>\n",
       "      <td>RED WOOLLY HOTTIE WHITE HEART.</td>\n",
       "      <td>3</td>\n",
       "    </tr>\n",
       "  </tbody>\n",
       "</table>\n",
       "</div>"
      ],
      "text/plain": [
       "  InvoiceNo     InvoiceDate  CustomerID StockCode  UnitPrice  QuantitySold  \\\n",
       "0    536365  12/1/2010 8:26     17850.0    85123A       2.55             6   \n",
       "1    536365  12/1/2010 8:26     17850.0     71053       3.39             6   \n",
       "2    536365  12/1/2010 8:26     17850.0    84406B       2.75             8   \n",
       "3    536365  12/1/2010 8:26     17850.0    84029G       3.39             6   \n",
       "4    536365  12/1/2010 8:26     17850.0    84029E       3.39             6   \n",
       "\n",
       "                           Description  QuantityRemaining  \n",
       "0   WHITE HANGING HEART T-LIGHT HOLDER                  3  \n",
       "1                  WHITE METAL LANTERN                  3  \n",
       "2       CREAM CUPID HEARTS COAT HANGER                  4  \n",
       "3  KNITTED UNION FLAG HOT WATER BOTTLE                  3  \n",
       "4       RED WOOLLY HOTTIE WHITE HEART.                  3  "
      ]
     },
     "execution_count": 3,
     "metadata": {},
     "output_type": "execute_result"
    }
   ],
   "source": [
    "# Print first 5 rows of `transactions`\n",
    "transactions.head()"
   ]
  },
  {
   "cell_type": "code",
   "execution_count": 4,
   "metadata": {},
   "outputs": [
    {
     "data": {
      "text/plain": [
       "InvoiceNo             object\n",
       "InvoiceDate           object\n",
       "CustomerID           float64\n",
       "StockCode             object\n",
       "UnitPrice            float64\n",
       "QuantitySold           int64\n",
       "Description           object\n",
       "QuantityRemaining      int64\n",
       "dtype: object"
      ]
     },
     "execution_count": 4,
     "metadata": {},
     "output_type": "execute_result"
    }
   ],
   "source": [
    "transactions.dtypes"
   ]
  },
  {
   "cell_type": "markdown",
   "metadata": {},
   "source": [
    "### Convert Type of `InvoiceDate` Column\n",
    "\n",
    "\n",
    "print the following:\n",
    "\n",
    "```\n",
    "InvoiceNo              object\n",
    "InvoiceDate    datetime64[ns]\n",
    "CustomerID            float64\n",
    "StockCode              object\n",
    "UnitPrice             float64\n",
    "Quantity                int64\n",
    "Description            object\n",
    "QuantityRemaining      int64\n",
    "dtype: object\n",
    "```\n",
    "\n"
   ]
  },
  {
   "cell_type": "code",
   "execution_count": 5,
   "metadata": {
    "ExecuteTime": {
     "end_time": "2021-04-07T00:59:48.899377Z",
     "start_time": "2021-04-07T00:59:44.927837Z"
    }
   },
   "outputs": [],
   "source": [
    "transactions.InvoiceDate = pd.to_datetime(transactions.InvoiceDate)"
   ]
  },
  {
   "cell_type": "code",
   "execution_count": 6,
   "metadata": {},
   "outputs": [
    {
     "data": {
      "text/plain": [
       "InvoiceNo                    object\n",
       "InvoiceDate          datetime64[ns]\n",
       "CustomerID                  float64\n",
       "StockCode                    object\n",
       "UnitPrice                   float64\n",
       "QuantitySold                  int64\n",
       "Description                  object\n",
       "QuantityRemaining             int64\n",
       "dtype: object"
      ]
     },
     "execution_count": 6,
     "metadata": {},
     "output_type": "execute_result"
    }
   ],
   "source": [
    "# Print datatypes of `transactions` DataFrame\n",
    "transactions.dtypes"
   ]
  },
  {
   "cell_type": "code",
   "execution_count": 7,
   "metadata": {},
   "outputs": [
    {
     "data": {
      "text/html": [
       "<div>\n",
       "<style scoped>\n",
       "    .dataframe tbody tr th:only-of-type {\n",
       "        vertical-align: middle;\n",
       "    }\n",
       "\n",
       "    .dataframe tbody tr th {\n",
       "        vertical-align: top;\n",
       "    }\n",
       "\n",
       "    .dataframe thead th {\n",
       "        text-align: right;\n",
       "    }\n",
       "</style>\n",
       "<table border=\"1\" class=\"dataframe\">\n",
       "  <thead>\n",
       "    <tr style=\"text-align: right;\">\n",
       "      <th></th>\n",
       "      <th>InvoiceNo</th>\n",
       "      <th>InvoiceDate</th>\n",
       "      <th>CustomerID</th>\n",
       "      <th>StockCode</th>\n",
       "      <th>UnitPrice</th>\n",
       "      <th>QuantitySold</th>\n",
       "      <th>Description</th>\n",
       "      <th>QuantityRemaining</th>\n",
       "    </tr>\n",
       "  </thead>\n",
       "  <tbody>\n",
       "    <tr>\n",
       "      <th>0</th>\n",
       "      <td>536365</td>\n",
       "      <td>2010-12-01 08:26:00</td>\n",
       "      <td>17850.0</td>\n",
       "      <td>85123A</td>\n",
       "      <td>2.55</td>\n",
       "      <td>6</td>\n",
       "      <td>WHITE HANGING HEART T-LIGHT HOLDER</td>\n",
       "      <td>3</td>\n",
       "    </tr>\n",
       "    <tr>\n",
       "      <th>1</th>\n",
       "      <td>536365</td>\n",
       "      <td>2010-12-01 08:26:00</td>\n",
       "      <td>17850.0</td>\n",
       "      <td>71053</td>\n",
       "      <td>3.39</td>\n",
       "      <td>6</td>\n",
       "      <td>WHITE METAL LANTERN</td>\n",
       "      <td>3</td>\n",
       "    </tr>\n",
       "    <tr>\n",
       "      <th>2</th>\n",
       "      <td>536365</td>\n",
       "      <td>2010-12-01 08:26:00</td>\n",
       "      <td>17850.0</td>\n",
       "      <td>84406B</td>\n",
       "      <td>2.75</td>\n",
       "      <td>8</td>\n",
       "      <td>CREAM CUPID HEARTS COAT HANGER</td>\n",
       "      <td>4</td>\n",
       "    </tr>\n",
       "    <tr>\n",
       "      <th>3</th>\n",
       "      <td>536365</td>\n",
       "      <td>2010-12-01 08:26:00</td>\n",
       "      <td>17850.0</td>\n",
       "      <td>84029G</td>\n",
       "      <td>3.39</td>\n",
       "      <td>6</td>\n",
       "      <td>KNITTED UNION FLAG HOT WATER BOTTLE</td>\n",
       "      <td>3</td>\n",
       "    </tr>\n",
       "    <tr>\n",
       "      <th>4</th>\n",
       "      <td>536365</td>\n",
       "      <td>2010-12-01 08:26:00</td>\n",
       "      <td>17850.0</td>\n",
       "      <td>84029E</td>\n",
       "      <td>3.39</td>\n",
       "      <td>6</td>\n",
       "      <td>RED WOOLLY HOTTIE WHITE HEART.</td>\n",
       "      <td>3</td>\n",
       "    </tr>\n",
       "  </tbody>\n",
       "</table>\n",
       "</div>"
      ],
      "text/plain": [
       "  InvoiceNo         InvoiceDate  CustomerID StockCode  UnitPrice  \\\n",
       "0    536365 2010-12-01 08:26:00     17850.0    85123A       2.55   \n",
       "1    536365 2010-12-01 08:26:00     17850.0     71053       3.39   \n",
       "2    536365 2010-12-01 08:26:00     17850.0    84406B       2.75   \n",
       "3    536365 2010-12-01 08:26:00     17850.0    84029G       3.39   \n",
       "4    536365 2010-12-01 08:26:00     17850.0    84029E       3.39   \n",
       "\n",
       "   QuantitySold                          Description  QuantityRemaining  \n",
       "0             6   WHITE HANGING HEART T-LIGHT HOLDER                  3  \n",
       "1             6                  WHITE METAL LANTERN                  3  \n",
       "2             8       CREAM CUPID HEARTS COAT HANGER                  4  \n",
       "3             6  KNITTED UNION FLAG HOT WATER BOTTLE                  3  \n",
       "4             6       RED WOOLLY HOTTIE WHITE HEART.                  3  "
      ]
     },
     "execution_count": 7,
     "metadata": {},
     "output_type": "execute_result"
    }
   ],
   "source": [
    "transactions.head()"
   ]
  },
  {
   "cell_type": "markdown",
   "metadata": {},
   "source": [
    "### Problem 3: Fix Negative `QuantitySold` Values\n"
   ]
  },
  {
   "cell_type": "code",
   "execution_count": 8,
   "metadata": {},
   "outputs": [
    {
     "data": {
      "text/plain": [
       "InvoiceNo            10624\n",
       "InvoiceDate          10624\n",
       "CustomerID            8905\n",
       "StockCode            10624\n",
       "UnitPrice            10624\n",
       "QuantitySold         10624\n",
       "Description           9762\n",
       "QuantityRemaining    10624\n",
       "dtype: int64"
      ]
     },
     "execution_count": 8,
     "metadata": {},
     "output_type": "execute_result"
    }
   ],
   "source": [
    "# Print number of rows with `QuantitySold` less than 0\n",
    "transactions.loc[transactions['QuantitySold'] < 0].count()"
   ]
  },
  {
   "cell_type": "code",
   "execution_count": 9,
   "metadata": {},
   "outputs": [],
   "source": [
    "# Flip every negative element in `transactions.Quantity`\n",
    "transactions.loc[transactions.QuantitySold < 0, 'QuantitySold'] = (\n",
    "    -transactions.loc[transactions.QuantitySold < 0, 'QuantitySold']\n",
    ")"
   ]
  },
  {
   "cell_type": "code",
   "execution_count": 10,
   "metadata": {
    "scrolled": true
   },
   "outputs": [
    {
     "data": {
      "text/plain": [
       "InvoiceNo            0\n",
       "InvoiceDate          0\n",
       "CustomerID           0\n",
       "StockCode            0\n",
       "UnitPrice            0\n",
       "QuantitySold         0\n",
       "Description          0\n",
       "QuantityRemaining    0\n",
       "dtype: int64"
      ]
     },
     "execution_count": 10,
     "metadata": {},
     "output_type": "execute_result"
    }
   ],
   "source": [
    "# Print number of rows with `QuantitySold` less than 0\n",
    "negative_quantities = transactions.loc[transactions['QuantitySold'] < 0]\n",
    "negative_quantities.count()"
   ]
  },
  {
   "cell_type": "markdown",
   "metadata": {},
   "source": [
    "###  Handling Missing Values"
   ]
  },
  {
   "cell_type": "code",
   "execution_count": 11,
   "metadata": {},
   "outputs": [
    {
     "data": {
      "text/plain": [
       "InvoiceNo                 0\n",
       "InvoiceDate               0\n",
       "CustomerID           135080\n",
       "StockCode                 0\n",
       "UnitPrice                 0\n",
       "QuantitySold              0\n",
       "Description            1454\n",
       "QuantityRemaining         0\n",
       "dtype: int64"
      ]
     },
     "execution_count": 11,
     "metadata": {},
     "output_type": "execute_result"
    }
   ],
   "source": [
    "# Use `isna` and `sum` to determine if columns contain `None` values\n",
    "pd.isna(transactions).sum()"
   ]
  },
  {
   "cell_type": "code",
   "execution_count": 12,
   "metadata": {},
   "outputs": [],
   "source": [
    "transactions.dropna(axis='rows', how='any', inplace=True)"
   ]
  },
  {
   "cell_type": "code",
   "execution_count": 13,
   "metadata": {
    "scrolled": true
   },
   "outputs": [
    {
     "data": {
      "text/plain": [
       "InvoiceNo            0\n",
       "InvoiceDate          0\n",
       "CustomerID           0\n",
       "StockCode            0\n",
       "UnitPrice            0\n",
       "QuantitySold         0\n",
       "Description          0\n",
       "QuantityRemaining    0\n",
       "dtype: int64"
      ]
     },
     "execution_count": 13,
     "metadata": {},
     "output_type": "execute_result"
    }
   ],
   "source": [
    "pd.isna(transactions).sum()"
   ]
  },
  {
   "cell_type": "markdown",
   "metadata": {},
   "source": [
    "### Problem 5: Removing Rows with `UnitPrice` of `0`"
   ]
  },
  {
   "cell_type": "code",
   "execution_count": 14,
   "metadata": {},
   "outputs": [
    {
     "data": {
      "text/plain": [
       "40"
      ]
     },
     "execution_count": 14,
     "metadata": {},
     "output_type": "execute_result"
    }
   ],
   "source": [
    "# Filter out all values in `UnitPrice` that are less than or equal to 0\n",
    "negative_filter = transactions.UnitPrice <= 0\n",
    "\n",
    "negative_filter.sum()"
   ]
  },
  {
   "cell_type": "code",
   "execution_count": 15,
   "metadata": {},
   "outputs": [],
   "source": [
    "# Filter out all rows whose `UnitPrice` is GREATER than 0\n",
    "positive_filter = transactions.UnitPrice > 0"
   ]
  },
  {
   "cell_type": "code",
   "execution_count": 16,
   "metadata": {},
   "outputs": [],
   "source": [
    "# Set `transactions` equal to a `copy` of the rows in `transactions` that match the `positive_filter` condition\n",
    "transactions = transactions.loc[positive_filter, :].copy()"
   ]
  },
  {
   "cell_type": "code",
   "execution_count": 17,
   "metadata": {},
   "outputs": [
    {
     "data": {
      "text/plain": [
       "0"
      ]
     },
     "execution_count": 17,
     "metadata": {},
     "output_type": "execute_result"
    }
   ],
   "source": [
    "# Filter out all values in `UnitPrice` that are less than or equal to 0\n",
    "negative_filter = transactions.UnitPrice <= 0\n",
    "negative_filter.sum()"
   ]
  },
  {
   "cell_type": "markdown",
   "metadata": {},
   "source": [
    "### Problem 6: Selecting Only Data from 2011\n",
    "Next, you will filter for _only_ data from 2011. Use a filter to set `transactions` equal to the subset of rows whose `InvoiceDate` occurs in 2011."
   ]
  },
  {
   "cell_type": "code",
   "execution_count": 18,
   "metadata": {},
   "outputs": [],
   "source": [
    "# Select rows from year `2011`\n",
    "transactions = transactions[transactions['InvoiceDate'].dt.year == 2011]"
   ]
  },
  {
   "cell_type": "markdown",
   "metadata": {},
   "source": [
    "# Part 2: Simple Analysis\n"
   ]
  },
  {
   "cell_type": "markdown",
   "metadata": {},
   "source": [
    "### Compute Total Items Sold\n"
   ]
  },
  {
   "cell_type": "code",
   "execution_count": 19,
   "metadata": {},
   "outputs": [
    {
     "data": {
      "text/plain": [
       "5114437"
      ]
     },
     "execution_count": 19,
     "metadata": {},
     "output_type": "execute_result"
    }
   ],
   "source": [
    "# Find sum of `QuantitySold` column\n",
    "transactions['QuantitySold'].sum()"
   ]
  },
  {
   "cell_type": "markdown",
   "metadata": {},
   "source": [
    "### Compute Total Revenue"
   ]
  },
  {
   "cell_type": "code",
   "execution_count": 20,
   "metadata": {},
   "outputs": [],
   "source": [
    "# Add `TotalPrice` column\n",
    "transactions['TotalPrice'] = transactions['QuantitySold'] * transactions['UnitPrice']"
   ]
  },
  {
   "cell_type": "code",
   "execution_count": 21,
   "metadata": {},
   "outputs": [
    {
     "data": {
      "text/plain": [
       "8931926.233999997"
      ]
     },
     "execution_count": 21,
     "metadata": {},
     "output_type": "execute_result"
    }
   ],
   "source": [
    "# Compute sum of `TotalPrice`\n",
    "transactions['TotalPrice'].sum()"
   ]
  },
  {
   "cell_type": "markdown",
   "metadata": {},
   "source": [
    "### Number of Unique Items Sold"
   ]
  },
  {
   "cell_type": "code",
   "execution_count": 22,
   "metadata": {},
   "outputs": [
    {
     "data": {
      "text/plain": [
       "3612"
      ]
     },
     "execution_count": 22,
     "metadata": {},
     "output_type": "execute_result"
    }
   ],
   "source": [
    "# Count unique `StockCode` entries\n",
    "transactions['StockCode'].nunique()"
   ]
  },
  {
   "cell_type": "markdown",
   "metadata": {},
   "source": [
    "### Average Number of Orders per Customer\n"
   ]
  },
  {
   "cell_type": "code",
   "execution_count": 23,
   "metadata": {},
   "outputs": [],
   "source": [
    "# Count number of unique customers\n",
    "unique_customers = transactions['CustomerID'].nunique()"
   ]
  },
  {
   "cell_type": "code",
   "execution_count": 24,
   "metadata": {},
   "outputs": [],
   "source": [
    "# Count number of unique invoices \n",
    "unique_invoices = transactions['InvoiceNo'].nunique()"
   ]
  },
  {
   "cell_type": "code",
   "execution_count": 25,
   "metadata": {},
   "outputs": [
    {
     "data": {
      "text/plain": [
       "4.826302144708932"
      ]
     },
     "execution_count": 25,
     "metadata": {},
     "output_type": "execute_result"
    }
   ],
   "source": [
    "# Compute average number of invoices per customer\n",
    "unique_invoices / unique_customers"
   ]
  },
  {
   "cell_type": "markdown",
   "metadata": {},
   "source": [
    "###  Average Value of Each Invoice\n"
   ]
  },
  {
   "cell_type": "code",
   "execution_count": 26,
   "metadata": {},
   "outputs": [],
   "source": [
    "# Count number of unique invoices \n",
    "unique_invoices = transactions['InvoiceNo'].nunique()"
   ]
  },
  {
   "cell_type": "code",
   "execution_count": 27,
   "metadata": {},
   "outputs": [],
   "source": [
    "# Total sales value\n",
    "total_value = transactions['TotalPrice'].sum()"
   ]
  },
  {
   "cell_type": "code",
   "execution_count": 28,
   "metadata": {},
   "outputs": [
    {
     "data": {
      "text/plain": [
       "436.1718055474166"
      ]
     },
     "execution_count": 28,
     "metadata": {},
     "output_type": "execute_result"
    }
   ],
   "source": [
    "# Average value of each invoice\n",
    "total_value / unique_invoices"
   ]
  }
 ],
 "metadata": {
  "kernelspec": {
   "display_name": "Python 3 (ipykernel)",
   "language": "python",
   "name": "python3"
  },
  "language_info": {
   "codemirror_mode": {
    "name": "ipython",
    "version": 3
   },
   "file_extension": ".py",
   "mimetype": "text/x-python",
   "name": "python",
   "nbconvert_exporter": "python",
   "pygments_lexer": "ipython3",
   "version": "3.9.13"
  }
 },
 "nbformat": 4,
 "nbformat_minor": 4
}
